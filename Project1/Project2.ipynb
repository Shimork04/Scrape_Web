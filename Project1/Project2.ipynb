{
 "cells": [
  {
   "cell_type": "code",
   "execution_count": 1,
   "id": "901d3f10",
   "metadata": {},
   "outputs": [],
   "source": [
    "## This is a webscrapper tool; for scrapping PDEU Website."
   ]
  },
  {
   "cell_type": "code",
   "execution_count": 3,
   "id": "242a8a20",
   "metadata": {},
   "outputs": [],
   "source": [
    "import requests\n",
    "from bs4 import BeautifulSoup"
   ]
  },
  {
   "cell_type": "code",
   "execution_count": 4,
   "id": "616720e1",
   "metadata": {},
   "outputs": [],
   "source": [
    "url = 'https://www.pdpu.ac.in/'"
   ]
  },
  {
   "cell_type": "code",
   "execution_count": 9,
   "id": "b25150d4",
   "metadata": {},
   "outputs": [],
   "source": [
    "response = requests.get(url)"
   ]
  },
  {
   "cell_type": "code",
   "execution_count": 11,
   "id": "d63882a4",
   "metadata": {},
   "outputs": [],
   "source": [
    "htmltext = response.text"
   ]
  },
  {
   "cell_type": "code",
   "execution_count": 69,
   "id": "e807cfcc",
   "metadata": {},
   "outputs": [],
   "source": [
    "soup = BeautifulSoup(htmltext,'html.parser')"
   ]
  },
  {
   "cell_type": "code",
   "execution_count": 90,
   "id": "0e9e3b50",
   "metadata": {},
   "outputs": [],
   "source": [
    "with open('Pdeu_Updates.txt','w',encoding='utf-8') as file:\n",
    "    marquee = soup.find_all('marquee')\n",
    "    li_list = []\n",
    "\n",
    "    for target in marquee:\n",
    "        li = target.find_all('li')\n",
    "        for li_element in li:\n",
    "            file.write(li_element.text + '\\n')"
   ]
  }
 ],
 "metadata": {
  "kernelspec": {
   "display_name": "Python 3 (ipykernel)",
   "language": "python",
   "name": "python3"
  },
  "language_info": {
   "codemirror_mode": {
    "name": "ipython",
    "version": 3
   },
   "file_extension": ".py",
   "mimetype": "text/x-python",
   "name": "python",
   "nbconvert_exporter": "python",
   "pygments_lexer": "ipython3",
   "version": "3.11.5"
  }
 },
 "nbformat": 4,
 "nbformat_minor": 5
}
